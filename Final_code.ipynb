{
 "cells": [
  {
   "cell_type": "code",
   "execution_count": 1,
   "metadata": {},
   "outputs": [
    {
     "name": "stdout",
     "output_type": "stream",
     "text": [
      "Requirement already satisfied: cmake in c:\\users\\nb291\\anaconda3\\lib\\site-packages (3.18.2.post1)\n",
      "Note: you may need to restart the kernel to use updated packages.\n"
     ]
    }
   ],
   "source": [
    "pip install cmake\n"
   ]
  },
  {
   "cell_type": "code",
   "execution_count": 2,
   "metadata": {},
   "outputs": [
    {
     "name": "stdout",
     "output_type": "stream",
     "text": [
      "Requirement already satisfied: dlib in c:\\users\\nb291\\anaconda3\\lib\\site-packages (19.21.0)\n",
      "Note: you may need to restart the kernel to use updated packages.\n"
     ]
    }
   ],
   "source": [
    "pip install dlib\n"
   ]
  },
  {
   "cell_type": "code",
   "execution_count": 3,
   "metadata": {},
   "outputs": [
    {
     "name": "stdout",
     "output_type": "stream",
     "text": [
      "pygame 2.0.0 (SDL 2.0.12, python 3.7.6)\n",
      "Hello from the pygame community. https://www.pygame.org/contribute.html\n"
     ]
    }
   ],
   "source": [
    "from scipy.spatial import distance\n",
    "from imutils import face_utils\n",
    "from imutils.video import VideoStream\n",
    "import numpy as np\n",
    "# import playsound\n",
    "import imutils\n",
    "import argparse\n",
    "from threading import Thread\n",
    "import time\n",
    "import dlib\n",
    "import cv2\n",
    "import pygame\n"
   ]
  },
  {
   "cell_type": "code",
   "execution_count": 4,
   "metadata": {},
   "outputs": [
    {
     "name": "stdout",
     "output_type": "stream",
     "text": [
      "Requirement already satisfied: pygame in c:\\users\\nb291\\anaconda3\\lib\\site-packages (2.0.0)\n",
      "Note: you may need to restart the kernel to use updated packages.\n"
     ]
    }
   ],
   "source": [
    "pip install pygame\n"
   ]
  },
  {
   "cell_type": "code",
   "execution_count": 5,
   "metadata": {},
   "outputs": [],
   "source": [
    "#for loading and playing alarm\n",
    "def sound_alarm():\n",
    "# playsound.playsound('alarm123.wav')\n",
    "    pygame.mixer.init()\n",
    "    pygame.mixer.music.load(\"alarm123.wav\")\n",
    "    pygame.mixer.music.play()\n",
    "    while pygame.mixer.music.get_busy() == True:\n",
    "        continue"
   ]
  },
  {
   "cell_type": "code",
   "execution_count": 6,
   "metadata": {},
   "outputs": [],
   "source": [
    "#minimum threshold of eye aspect ratio after which alarm will be active\n",
    "eye_aspect_ratio_threshold = 0.3\n",
    "\n",
    "#minimum consecutive frames\n",
    "eye_aspect_ratio_consecutive_frames = 40        #! Orginaaly was=50\n",
    "\n",
    "#for counting consecutive frames\n",
    "COUNTER = 0\n",
    "ALARM_ON = False\n",
    "\n",
    "#loading face cascade\n",
    "face_cascade = cv2.CascadeClassifier(\"haarcascades\\haarcascade_frontalface_default.xml\")\n",
    "\n",
    "#calculation of eye_aspect_ratio\n",
    "def eye_aspect_ratio(eye):\n",
    "    #distance between two sets of vertical eye landmarks (x,y) co-ordinates\n",
    "    X = distance.euclidean(eye[1], eye[5])\n",
    "    Y = distance.euclidean(eye[2], eye[4])\n",
    "    #distance between horizontal eye landmark\n",
    "    Z = distance.euclidean(eye[0], eye[3])\n",
    "\n",
    "    EAR = (X+Y) / (2*Z)       #Eye aspect ratio\n",
    "    return EAR"
   ]
  },
  {
   "cell_type": "code",
   "execution_count": 7,
   "metadata": {},
   "outputs": [
    {
     "name": "stdout",
     "output_type": "stream",
     "text": [
      "Start video stream...\n"
     ]
    }
   ],
   "source": [
    "#loading face detector and shape predictor from dlib\n",
    "detector = dlib.get_frontal_face_detector()\n",
    "predictor = dlib.shape_predictor(\"shape_predictor_68_face_landmarks.dat\")\n",
    "\n",
    "#extracting indexes of facial landmark of left and right\n",
    "(lstart, lend) = face_utils.FACIAL_LANDMARKS_IDXS['left_eye']\n",
    "(rstart, rend) = face_utils.FACIAL_LANDMARKS_IDXS['right_eye']\n",
    "\n",
    "#start webcam\n",
    "print(\"Start video stream...\")\n",
    "vs = VideoStream(src=0).start()\n",
    "time.sleep(1.0)\n"
   ]
  },
  {
   "cell_type": "code",
   "execution_count": null,
   "metadata": {},
   "outputs": [],
   "source": [
    "while True:\n",
    "    \n",
    "    #taking the frame\n",
    "\tframe = vs.read()\n",
    "    #resizing\n",
    "\tframe = imutils.resize(frame, width=450)\n",
    "    #converting to grayscale\n",
    "\tgray = cv2.cvtColor(frame, cv2.COLOR_BGR2GRAY)\n",
    "\n",
    "\n",
    "\t# detect faces in the grayscale frame\n",
    "\tfaces = detector(gray, 0)\n",
    "\n",
    "\t# looping through the detected faces\n",
    "\tfor rect in faces:\n",
    "\t\t# determine the facial landmarks for the face region, then convert the facial landmark (x, y)-coordinates to a NumPy array\n",
    "\t\tshape = predictor(gray, rect)\n",
    "\t\tshape = face_utils.shape_to_np(shape)\n",
    "\n",
    "\t\t#extract left eye coordinates\n",
    "\t\tleftEye = shape[lstart:lend]\n",
    "        #extract right eye coordinates\n",
    "\t\trightEye = shape[rstart:rend]\n",
    "        #compute the ratios\n",
    "\t\tleftEAR = eye_aspect_ratio(leftEye)\n",
    "\t\trightEAR = eye_aspect_ratio(rightEye)\n",
    "\n",
    "\t\t# averaging the eyeaspect ratio\n",
    "\t\tear = (leftEAR + rightEAR) / 2.0\n",
    "\n",
    "\t\t# compute the convex hull for the left and right eye, then\n",
    "\t\t# visualize each of the eyes\n",
    "\t\tleftEyeHull = cv2.convexHull(leftEye)\n",
    "\t\trightEyeHull = cv2.convexHull(rightEye)\n",
    "\t\tcv2.drawContours(frame, [leftEyeHull], -1, (0, 255, 0), 1)\n",
    "\t\tcv2.drawContours(frame, [rightEyeHull], -1, (0, 255, 0), 1)\n",
    "\n",
    "\t\t# checking if the eye aspect ratio is below the blink threshold(eye_aspect_ratio_threshold), \n",
    "        # and if so, increment the blink frame counter to get the comparison with eye aspect ratio consecutive frames\n",
    "\t\tif ear < eye_aspect_ratio_threshold:\n",
    "\t\t\tCOUNTER += 1\n",
    "\t\t\tif COUNTER >= eye_aspect_ratio_consecutive_frames:\n",
    "\t\t\t\t# turning the alarm on\n",
    "\t\t\t\tif not ALARM_ON:\n",
    "\t\t\t\t\tALARM_ON = True\n",
    "\t\t\t\t\t#playing alarm\n",
    "\t\t\t\t\tt = Thread(target=sound_alarm)\n",
    "\t\t\t\t\tt.deamon = True\n",
    "\t\t\t\t\tt.start()\n",
    "\n",
    "\t\t\t\t# alart on window\n",
    "\t\t\t\tcv2.putText(frame, \"Wake Up!\", (10, 30),\n",
    "\t\t\t\t\tcv2.FONT_HERSHEY_SIMPLEX, 0.7, (0, 0, 255), 2)\n",
    "\n",
    "\t\t# if the eye aspect ratio is not below threshold\n",
    "\t\telse:\n",
    "\t\t\tCOUNTER = 0\n",
    "\t\t\tALARM_ON = False\n",
    "\n",
    "\t\t# eye aspect ratio on frame\n",
    "\t\tcv2.putText(frame, \"EAR: {:.2f}\".format(ear), (300, 30),\n",
    "\t\t\tcv2.FONT_HERSHEY_SIMPLEX, 0.7, (0, 0, 255), 2)\n",
    " \n",
    "\t# showing frame\n",
    "\tcv2.imshow(\"Frame\", frame)\n",
    "\tkey = cv2.waitKey(1) & 0xFF\n",
    " \n",
    "\t# press q to exit\n",
    "\tif key == ord(\"q\"):\n",
    "\t\tbreak\n",
    "\n",
    "# close\n",
    "cv2.destroyAllWindows()\n",
    "vs.stop()"
   ]
  },
  {
   "cell_type": "code",
   "execution_count": null,
   "metadata": {},
   "outputs": [],
   "source": []
  },
  {
   "cell_type": "code",
   "execution_count": null,
   "metadata": {},
   "outputs": [],
   "source": []
  },
  {
   "cell_type": "code",
   "execution_count": null,
   "metadata": {},
   "outputs": [],
   "source": []
  }
 ],
 "metadata": {
  "kernelspec": {
   "display_name": "Python 3",
   "language": "python",
   "name": "python3"
  },
  "language_info": {
   "codemirror_mode": {
    "name": "ipython",
    "version": 3
   },
   "file_extension": ".py",
   "mimetype": "text/x-python",
   "name": "python",
   "nbconvert_exporter": "python",
   "pygments_lexer": "ipython3",
   "version": "3.7.6"
  }
 },
 "nbformat": 4,
 "nbformat_minor": 4
}
